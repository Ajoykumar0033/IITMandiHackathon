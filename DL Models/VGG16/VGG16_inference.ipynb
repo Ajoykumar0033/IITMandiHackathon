{
 "cells": [
  {
   "cell_type": "code",
   "execution_count": null,
   "id": "a4822e01-7617-47ed-97e2-bc3339f82b84",
   "metadata": {},
   "outputs": [],
   "source": [
    "import librosa\n",
    "import numpy as np\n",
    "import tensorflow as tf\n",
    "\n",
    "def load_and_pad(file_path, sr=16000):\n",
    "    try:\n",
    "        y, _ = librosa.load(file_path, sr=sr)\n",
    "        if len(y) < sr:\n",
    "            y = np.pad(y, (0, sr - len(y)))\n",
    "        return y\n",
    "    except Exception as e:\n",
    "        print(f\"Error loading {file_path}: {e}\")\n",
    "        return None\n",
    "\n",
    "def preprocess_single_file_vgg(file_path, sr=16000, n_mfcc=40):\n",
    "    y = load_and_pad(file_path, sr=sr)\n",
    "    if y is None:\n",
    "        raise ValueError(\"Audio loading failed\")\n",
    "\n",
    "    # Extract MFCC\n",
    "    mfcc = librosa.feature.mfcc(y=y, sr=sr, n_mfcc=n_mfcc)\n",
    "    mfcc = (mfcc - np.mean(mfcc)) / (np.std(mfcc) + 1e-8)\n",
    "\n",
    "    # Pad or trim MFCC to (40, 64)\n",
    "    if mfcc.shape[1] < 64:\n",
    "        pad_width = 64 - mfcc.shape[1]\n",
    "        mfcc = np.pad(mfcc, ((0, 0), (0, pad_width)))\n",
    "    else:\n",
    "        mfcc = mfcc[:, :64]\n",
    "\n",
    "    # Resize to (64, 64) and convert to 3-channel\n",
    "    mfcc_resized = tf.image.resize(mfcc[..., np.newaxis], [40, 64]).numpy()\n",
    "    mfcc_rgb = np.repeat(mfcc_resized, 1, axis=-1)  # shape (64, 64, 3)\n",
    "    mfcc_rgb = np.expand_dims(mfcc_rgb, axis=0)     # shape (1, 64, 64, 3)\n",
    "\n",
    "    return mfcc_rgb\n"
   ]
  },
  {
   "cell_type": "code",
   "execution_count": null,
   "id": "cb0cf292-b9f9-4759-bd26-a58fe53fcfef",
   "metadata": {},
   "outputs": [
    {
     "name": "stderr",
     "output_type": "stream",
     "text": [
      "WARNING:absl:Compiled the loaded model, but the compiled metrics have yet to be built. `model.compile_metrics` will be empty until you train or evaluate the model.\n"
     ]
    },
    {
     "name": "stdout",
     "output_type": "stream",
     "text": [
      "\u001b[1m1/1\u001b[0m \u001b[32m━━━━━━━━━━━━━━━━━━━━\u001b[0m\u001b[37m\u001b[0m \u001b[1m0s\u001b[0m 300ms/step\n",
      "Predicted Class: real, Confidence: 0.9991\n"
     ]
    }
   ],
   "source": [
    "from tensorflow.keras.models import load_model\n",
    "import numpy as np\n",
    "\n",
    "# Load VGG16 model\n",
    "model = load_model(r\"C:\\Users\\iksmh\\Downloads\\VGG\\vgg16_full_86.h5\")\n",
    "\n",
    "# Predict on your sample\n",
    "raw_file = r\"C:\\Users\\iksmh\\Downloads\\test_audio\\test_audio\\Fake.wav\"  \n",
    "processed_input = preprocess_single_file_vgg(raw_file)\n",
    "prediction = model.predict(processed_input)\n",
    "\n",
    "# Output result\n",
    "predicted_class = np.argmax(prediction)\n",
    "class_names = ['real', 'fake']\n",
    "print(f\"Predicted Class: {class_names[predicted_class]}, Confidence: {prediction[0][predicted_class]:.4f}\")\n"
   ]
  },
  {
   "cell_type": "code",
   "execution_count": null,
   "id": "d8bb25e3-0ddb-41c9-8054-6e4951e8203e",
   "metadata": {},
   "outputs": [],
   "source": []
  }
 ],
 "metadata": {
  "kernelspec": {
   "display_name": "Python 3 (ipykernel)",
   "language": "python",
   "name": "python3"
  },
  "language_info": {
   "codemirror_mode": {
    "name": "ipython",
    "version": 3
   },
   "file_extension": ".py",
   "mimetype": "text/x-python",
   "name": "python",
   "nbconvert_exporter": "python",
   "pygments_lexer": "ipython3",
   "version": "3.12.7"
  }
 },
 "nbformat": 4,
 "nbformat_minor": 5
}
