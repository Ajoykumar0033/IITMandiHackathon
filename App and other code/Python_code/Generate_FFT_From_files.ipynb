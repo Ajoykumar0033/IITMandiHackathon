{
 "cells": [
  {
   "cell_type": "code",
   "execution_count": 1,
   "id": "635fe077-6ac1-4da2-a94c-717190d1817a",
   "metadata": {},
   "outputs": [
    {
     "name": "stdout",
     "output_type": "stream",
     "text": [
      "Defaulting to user installation because normal site-packages is not writeable\n",
      "Requirement already satisfied: numpy in c:\\programdata\\anaconda3\\lib\\site-packages (1.26.4)\n",
      "Requirement already satisfied: scipy in c:\\programdata\\anaconda3\\lib\\site-packages (1.13.1)\n",
      "Note: you may need to restart the kernel to use updated packages.\n"
     ]
    },
    {
     "name": "stderr",
     "output_type": "stream",
     "text": [
      "ERROR: Could not find a version that satisfies the requirement cupy-cuda118 (from versions: none)\n",
      "ERROR: No matching distribution found for cupy-cuda118\n"
     ]
    }
   ],
   "source": [
    "pip install numpy scipy cupy-cuda118\n"
   ]
  },
  {
   "cell_type": "code",
   "execution_count": 1,
   "id": "48df9fc6-5463-4010-91d7-0e3673979290",
   "metadata": {},
   "outputs": [
    {
     "ename": "ModuleNotFoundError",
     "evalue": "No module named 'cupy'",
     "output_type": "error",
     "traceback": [
      "\u001b[1;31m---------------------------------------------------------------------------\u001b[0m",
      "\u001b[1;31mModuleNotFoundError\u001b[0m                       Traceback (most recent call last)",
      "Cell \u001b[1;32mIn[1], line 5\u001b[0m\n\u001b[0;32m      3\u001b[0m \u001b[38;5;28;01mimport\u001b[39;00m \u001b[38;5;21;01mglob\u001b[39;00m\n\u001b[0;32m      4\u001b[0m \u001b[38;5;28;01mimport\u001b[39;00m \u001b[38;5;21;01mnumpy\u001b[39;00m \u001b[38;5;28;01mas\u001b[39;00m \u001b[38;5;21;01mnp\u001b[39;00m\n\u001b[1;32m----> 5\u001b[0m \u001b[38;5;28;01mimport\u001b[39;00m \u001b[38;5;21;01mcupy\u001b[39;00m \u001b[38;5;28;01mas\u001b[39;00m \u001b[38;5;21;01mcp\u001b[39;00m\n\u001b[0;32m      6\u001b[0m \u001b[38;5;28;01mfrom\u001b[39;00m \u001b[38;5;21;01mscipy\u001b[39;00m\u001b[38;5;21;01m.\u001b[39;00m\u001b[38;5;21;01mio\u001b[39;00m \u001b[38;5;28;01mimport\u001b[39;00m wavfile\n\u001b[0;32m      8\u001b[0m \u001b[38;5;28;01mdef\u001b[39;00m \u001b[38;5;21mprocess_folder\u001b[39m(folder):\n",
      "\u001b[1;31mModuleNotFoundError\u001b[0m: No module named 'cupy'"
     ]
    }
   ],
   "source": [
    "import os\n",
    "import sys\n",
    "import glob\n",
    "import numpy as np\n",
    "import cupy as cp\n",
    "from scipy.io import wavfile\n",
    "\n",
    "def process_folder(folder):\n",
    "    wav_files = glob.glob(os.path.join(folder, '*.wav'))\n",
    "    if not wav_files:\n",
    "        print(f'No WAV files found in {folder}')\n",
    "        return\n",
    "\n",
    "    for wav_file in wav_files:\n",
    "        try:\n",
    "            # 1. Load audio\n",
    "            sr, data = wavfile.read(wav_file)\n",
    "\n",
    "            # 2. To mono\n",
    "            if data.ndim == 2:\n",
    "                data = data.mean(axis=1)\n",
    "            data = data.astype(np.float32)\n",
    "\n",
    "            # 3. GPU FFT\n",
    "            gpu_data      = cp.asarray(data)\n",
    "            N             = gpu_data.shape[0]\n",
    "            gpu_fft       = cp.fft.fft(gpu_data)\n",
    "            gpu_fft_half  = gpu_fft[: N//2]\n",
    "            gpu_freqs     = cp.fft.fftfreq(N, d=1.0/sr)[: N//2]\n",
    "            gpu_mag       = cp.abs(gpu_fft_half)\n",
    "\n",
    "            # 4. Bring back to CPU\n",
    "            freqs     = cp.asnumpy(gpu_freqs)\n",
    "            magnitude = cp.asnumpy(gpu_mag)\n",
    "\n",
    "            # 5. Save CSV\n",
    "            out_csv = os.path.splitext(wav_file)[0] + '.csv'\n",
    "            header  = 'frequency_hz,magnitude'\n",
    "            np.savetxt(\n",
    "                out_csv,\n",
    "                np.column_stack((freqs, magnitude)),\n",
    "                delimiter=',',\n",
    "                header=header,\n",
    "                comments=''\n",
    "            )\n",
    "\n",
    "            print(f'Processed {wav_file} → {out_csv}')\n",
    "\n",
    "        except Exception as e:\n",
    "            print(f'Error processing {wav_file}: {e}')\n",
    "\n",
    "if __name__ == '__main__':\n",
    "    folder = sys.argv[1] if len(sys.argv) > 1 else '.'\n",
    "    process_folder(folder)\n"
   ]
  },
  {
   "cell_type": "code",
   "execution_count": 3,
   "id": "8cd80882-ba33-4ff5-b5bc-a5a66be11ec5",
   "metadata": {},
   "outputs": [
    {
     "name": "stdout",
     "output_type": "stream",
     "text": [
      "Defaulting to user installation because normal site-packages is not writeable\n",
      "Note: you may need to restart the kernel to use updated packages.\n"
     ]
    },
    {
     "name": "stderr",
     "output_type": "stream",
     "text": [
      "ERROR: Could not find a version that satisfies the requirement cupy-cuda118 (from versions: none)\n",
      "ERROR: No matching distribution found for cupy-cuda118\n"
     ]
    }
   ],
   "source": [
    "pip install cupy-cuda118\n"
   ]
  },
  {
   "cell_type": "code",
   "execution_count": 2,
   "id": "86c850cd-340c-4fc0-874d-1744714ffda7",
   "metadata": {},
   "outputs": [
    {
     "name": "stdout",
     "output_type": "stream",
     "text": [
      "^C\n",
      "Note: you may need to restart the kernel to use updated packages.\n"
     ]
    }
   ],
   "source": [
    "pip install cupy"
   ]
  },
  {
   "cell_type": "code",
   "execution_count": null,
   "id": "ecf69776-b5e1-4991-a1c7-a80a93a11ae6",
   "metadata": {},
   "outputs": [],
   "source": []
  }
 ],
 "metadata": {
  "kernelspec": {
   "display_name": "Python 3 (ipykernel)",
   "language": "python",
   "name": "python3"
  },
  "language_info": {
   "codemirror_mode": {
    "name": "ipython",
    "version": 3
   },
   "file_extension": ".py",
   "mimetype": "text/x-python",
   "name": "python",
   "nbconvert_exporter": "python",
   "pygments_lexer": "ipython3",
   "version": "3.12.7"
  }
 },
 "nbformat": 4,
 "nbformat_minor": 5
}
